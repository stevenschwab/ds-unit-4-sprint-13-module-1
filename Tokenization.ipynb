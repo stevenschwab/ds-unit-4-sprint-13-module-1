{
  "nbformat": 4,
  "nbformat_minor": 0,
  "metadata": {
    "colab": {
      "provenance": []
    },
    "kernelspec": {
      "name": "python3",
      "display_name": "Python 3"
    },
    "language_info": {
      "name": "python"
    }
  },
  "cells": [
    {
      "cell_type": "code",
      "execution_count": 1,
      "metadata": {
        "id": "vOjIr8X0c0WI"
      },
      "outputs": [],
      "source": [
        "string = '29texqevzr3gwvmrpjvde637h4gwd6'"
      ]
    },
    {
      "cell_type": "markdown",
      "source": [
        "In the above example, the useful unit for analysis would be a single character, as there are no words or sentences in the string of characters. We can use the Python list() constructor to tokenize this string."
      ],
      "metadata": {
        "id": "gIqebXFxc-7c"
      }
    },
    {
      "cell_type": "code",
      "source": [
        "# Use the list() constructor to tokenize\n",
        "tokens = list(string)\n",
        "\n",
        "# look at the first 10 tokens\n",
        "print(tokens[:10])"
      ],
      "metadata": {
        "colab": {
          "base_uri": "https://localhost:8080/"
        },
        "id": "SNNW_un5dCRs",
        "outputId": "de777d86-3db3-479a-fa50-4ef97247ebb3"
      },
      "execution_count": 2,
      "outputs": [
        {
          "output_type": "stream",
          "name": "stdout",
          "text": [
            "['2', '9', 't', 'e', 'x', 'q', 'e', 'v', 'z', 'r']\n"
          ]
        }
      ]
    },
    {
      "cell_type": "code",
      "source": [
        "# Random sentence\n",
        "mysentence = 'Last Friday I saw a spotted striped blue worm shake hands with a legless lizard.'\n",
        "\n",
        "# Split on a space\n",
        "mysentence.split(\" \")"
      ],
      "metadata": {
        "colab": {
          "base_uri": "https://localhost:8080/"
        },
        "id": "SZZVJhfddS51",
        "outputId": "071fa8cf-831d-4a49-b612-50278b6612e4"
      },
      "execution_count": 3,
      "outputs": [
        {
          "output_type": "execute_result",
          "data": {
            "text/plain": [
              "['Last',\n",
              " 'Friday',\n",
              " 'I',\n",
              " 'saw',\n",
              " 'a',\n",
              " 'spotted',\n",
              " 'striped',\n",
              " 'blue',\n",
              " 'worm',\n",
              " 'shake',\n",
              " 'hands',\n",
              " 'with',\n",
              " 'a',\n",
              " 'legless',\n",
              " 'lizard.']"
            ]
          },
          "metadata": {},
          "execution_count": 3
        }
      ]
    },
    {
      "cell_type": "code",
      "source": [
        "import seaborn as sns\n",
        "\n",
        "ax = sns.histplot(tokens)\n",
        "ax.set_title('Count plot of random_seq characters')"
      ],
      "metadata": {
        "colab": {
          "base_uri": "https://localhost:8080/",
          "height": 469
        },
        "id": "6RjPioMbdmfl",
        "outputId": "354f2d78-1544-4976-eebd-bccaf2ed1075"
      },
      "execution_count": 4,
      "outputs": [
        {
          "output_type": "execute_result",
          "data": {
            "text/plain": [
              "Text(0.5, 1.0, 'Count plot of random_seq characters')"
            ]
          },
          "metadata": {},
          "execution_count": 4
        },
        {
          "output_type": "display_data",
          "data": {
            "text/plain": [
              "<Figure size 640x480 with 1 Axes>"
            ],
            "image/png": "[encoded data removed]"
          },
          "metadata": {}
        }
      ]
    },
    {
      "cell_type": "code",
      "source": [
        "import pandas as pd\n",
        "grocery = pd.read_csv('grocery_list.csv')\n",
        "items_list = grocery['items'].tolist()\n",
        "print(items_list)"
      ],
      "metadata": {
        "id": "qjyw5lMFd8-8"
      },
      "execution_count": null,
      "outputs": []
    },
    {
      "cell_type": "code",
      "source": [
        "# Count the frequency of each item in the list\n",
        "grocery['items'].value_counts()"
      ],
      "metadata": {
        "id": "SI-KD-QVfAe1"
      },
      "execution_count": null,
      "outputs": []
    },
    {
      "cell_type": "code",
      "source": [
        "# Create lower case items\n",
        "grocery['items'] = grocery['items'].apply(lambda x: x.lower())\n",
        "\n",
        "# Re-do the value counts\n",
        "grocery['items'].value_counts()"
      ],
      "metadata": {
        "id": "B4sFCPgEfN5i"
      },
      "execution_count": null,
      "outputs": []
    },
    {
      "cell_type": "code",
      "source": [
        "# Random string of characters\n",
        "string = 'D]ehjZe_*-e!?fdfW)_/zQ2#8*LKH#'\n",
        "\n",
        "# Import the regular expressions package\n",
        "import re\n",
        "\n",
        "# Filter and replace with nothing\n",
        "re.sub('[^a-zA-Z 0-9]', '', string)"
      ],
      "metadata": {
        "colab": {
          "base_uri": "https://localhost:8080/",
          "height": 35
        },
        "id": "1j3vf9ijgBUC",
        "outputId": "0b205ad8-04f6-4c7c-b08d-0de0ec7e92eb"
      },
      "execution_count": 7,
      "outputs": [
        {
          "output_type": "execute_result",
          "data": {
            "text/plain": [
              "'DehjZeefdfWzQ28LKH'"
            ],
            "application/vnd.google.colaboratory.intrinsic+json": {
              "type": "string"
            }
          },
          "metadata": {},
          "execution_count": 7
        }
      ]
    },
    {
      "cell_type": "code",
      "source": [
        "# download spacy module\n",
        "!python -m spacy download en_core_web_lg"
      ],
      "metadata": {
        "colab": {
          "base_uri": "https://localhost:8080/"
        },
        "id": "CxMX1dhJgcjs",
        "outputId": "6b47ccf2-1c92-4ced-81c1-c100e65761ac"
      },
      "execution_count": 8,
      "outputs": [
        {
          "output_type": "stream",
          "name": "stdout",
          "text": [
            "Collecting en-core-web-lg==3.8.0\n",
            "  Downloading https://github.com/explosion/spacy-models/releases/download/en_core_web_lg-3.8.0/en_core_web_lg-3.8.0-py3-none-any.whl (400.7 MB)\n",
            "\u001b[2K     \u001b[90m━━━━━━━━━━━━━━━━━━━━━━━━━━━━━━━━━━━━━━━\u001b[0m \u001b[32m400.7/400.7 MB\u001b[0m \u001b[31m2.8 MB/s\u001b[0m eta \u001b[36m0:00:00\u001b[0m\n",
            "\u001b[?25hInstalling collected packages: en-core-web-lg\n",
            "Successfully installed en-core-web-lg-3.8.0\n",
            "\u001b[38;5;2m✔ Download and installation successful\u001b[0m\n",
            "You can now load the package via spacy.load('en_core_web_lg')\n",
            "\u001b[38;5;3m⚠ Restart to reload dependencies\u001b[0m\n",
            "If you are in a Jupyter or Colab notebook, you may need to restart Python in\n",
            "order to load all the package's dependencies. You can do this by selecting the\n",
            "'Restart kernel' or 'Restart runtime' option.\n"
          ]
        }
      ]
    },
    {
      "cell_type": "code",
      "source": [
        "import spacy\n",
        "from spacy.tokenizer import Tokenizer\n",
        "\n",
        "# Load the pre-trained statistical model for English\n",
        "import en_core_web_lg\n",
        "nlp = en_core_web_lg.load()\n",
        "\n",
        "# Tokenizer\n",
        "tokenizer = Tokenizer(nlp.vocab)\n",
        "# Sample text\n",
        "sample = \"They watched the 42 dancing piglets with panda bear tummies in the swimming pool.\"\n",
        "\n",
        "# Tokenize and print out list of tokens\n",
        "tokens = [token.text for token in tokenizer(sample)]\n",
        "print(tokens)"
      ],
      "metadata": {
        "colab": {
          "base_uri": "https://localhost:8080/"
        },
        "id": "1V_ehyWohzmE",
        "outputId": "c676c78f-e737-4561-e8aa-2ab70421109a"
      },
      "execution_count": 1,
      "outputs": [
        {
          "output_type": "stream",
          "name": "stdout",
          "text": [
            "['They', 'watched', 'the', '42', 'dancing', 'piglets', 'with', 'panda', 'bear', 'tummies', 'in', 'the', 'swimming', 'pool.']\n"
          ]
        }
      ]
    },
    {
      "cell_type": "code",
      "source": [
        "import spacy\n",
        "from spacy.tokenizer import Tokenizer\n",
        "\n",
        "# Load the pre-trained statistical model for English\n",
        "import en_core_web_lg\n",
        "nlp = en_core_web_lg.load()\n",
        "\n",
        "# spaCy's default stop words\n",
        "stop_list = list(nlp.Defaults.stop_words)\n",
        "print(\"The number of stop words: \", len(stop_list))\n",
        "\n",
        "print(\"The first 10 stop words are: \", stop_list[:10])"
      ],
      "metadata": {
        "colab": {
          "base_uri": "https://localhost:8080/"
        },
        "id": "f37FCNeojq01",
        "outputId": "3d7ca13c-cae8-4ffc-bb6d-84023ba82593"
      },
      "execution_count": 2,
      "outputs": [
        {
          "output_type": "stream",
          "name": "stdout",
          "text": [
            "The number of stop words:  326\n",
            "The first 10 stop words are:  ['while', 'anyone', 'herein', 'together', 'ca', 'across', 'both', 'him', 'the', 'yourself']\n"
          ]
        }
      ]
    },
    {
      "cell_type": "code",
      "source": [
        "# Open and save the raw files\n",
        "with open('wonderland.txt', encoding='utf-8', errors='ignore') as f:\n",
        "  wonder_raw = f.read()\n",
        "\n",
        "# parse the raw text\n",
        "doc = nlp(wonder_raw)\n",
        "print('The type of output is: ', type(doc))\n",
        "print(doc[:100])"
      ],
      "metadata": {
        "colab": {
          "base_uri": "https://localhost:8080/"
        },
        "id": "bOnfkwSHkFk1",
        "outputId": "e5f40425-87a4-46bd-f9fd-5fb79fa8dea8"
      },
      "execution_count": 3,
      "outputs": [
        {
          "output_type": "stream",
          "name": "stdout",
          "text": [
            "The type of output is:  <class 'spacy.tokens.doc.Doc'>\n",
            "Alice was beginning to get very tired of sitting by her sister on the bank, and of having nothing to do: once or twice she had peeped into the book her sister was reading, but it had no pictures or conversations in it, “and what is the use of a book,” thought Alice “without pictures or conversations?” So she was considering in her own mind (as well as she could, for the hot day made her feel very sleepy and stupid), whether the pleasure of making\n"
          ]
        }
      ]
    },
    {
      "cell_type": "code",
      "source": [
        "# remove the stop words and the punctuation\n",
        "\n",
        "# initialize a list to hold the tokens\n",
        "tokens_nostop = []\n",
        "\n",
        "# loop over each token in the document (doc)\n",
        "for token in doc:\n",
        "  if not token.is_stop and not token.is_punct:\n",
        "    tokens_nostop.append(token.text.lower())\n",
        "\n",
        "# print the first 50 tokens\n",
        "print(tokens_nostop[:50])"
      ],
      "metadata": {
        "colab": {
          "base_uri": "https://localhost:8080/"
        },
        "id": "RSr77ImdlPKq",
        "outputId": "6c449d85-9ee6-40dd-c260-9157309d4e88"
      },
      "execution_count": 4,
      "outputs": [
        {
          "output_type": "stream",
          "name": "stdout",
          "text": [
            "['alice', 'beginning', 'tired', 'sitting', 'sister', 'bank', 'having', 'twice', 'peeped', 'book', 'sister', 'reading', 'pictures', 'conversations', 'use', 'book', 'thought', 'alice', 'pictures', 'conversations', 'considering', 'mind', 'hot', 'day', 'feel', 'sleepy', 'stupid', 'pleasure', 'making', 'daisy', 'chain', 'worth', 'trouble', 'getting', 'picking', 'daisies', 'suddenly', 'white', 'rabbit', 'pink', 'eyes', 'ran', 'close', 'remarkable', 'alice', 'think', 'way', 'hear', 'rabbit', 'oh']\n"
          ]
        }
      ]
    },
    {
      "cell_type": "code",
      "source": [
        "from collections import Counter\n",
        "import pandas as pd\n",
        "\n",
        "# sum up the word counts and store in a dict\n",
        "tokens_dict = Counter(tokens_nostop)\n",
        "# print(tokens_dict)\n",
        "# print(list(tokens_dict.items()))\n",
        "\n",
        "# convert to a dataframe\n",
        "tokens_wc = pd.DataFrame(list(tokens_dict.items()), columns = ['word', 'count'])\n",
        "\n",
        "# rank the words by how frequently they occur\n",
        "tokens_wc['rank'] = tokens_wc['count'].rank(method='first', ascending=False)\n",
        "\n",
        "# count all of the words in the document and calculate their percentage\n",
        "total = tokens_wc['count'].sum()\n",
        "tokens_wc['pct_total'] = tokens_wc['count'].apply(lambda x: (x / total)*100)\n",
        "\n",
        "# take a look at the dataframe with new results\n",
        "tokens_wc.head(10)"
      ],
      "metadata": {
        "colab": {
          "base_uri": "https://localhost:8080/",
          "height": 363
        },
        "id": "x7y0UahumFPo",
        "outputId": "9e64ea06-af6a-43c3-af46-a79064918267"
      },
      "execution_count": 9,
      "outputs": [
        {
          "output_type": "execute_result",
          "data": {
            "text/plain": [
              "        word  count   rank  pct_total\n",
              "0      alice     28    1.0   2.816901\n",
              "1  beginning      1  176.0   0.100604\n",
              "2      tired      1  177.0   0.100604\n",
              "3    sitting      2   81.0   0.201207\n",
              "4     sister      4   39.0   0.402414\n",
              "5       bank      1  178.0   0.100604\n",
              "6     having      2   82.0   0.201207\n",
              "7      twice      1  179.0   0.100604\n",
              "8     peeped      1  180.0   0.100604\n",
              "9       book      2   83.0   0.201207"
            ],
            "text/html": [
              "\n",
              "  <div id=\"df-22b0ccdd-28ce-4e93-912e-df25ee69cb4e\" class=\"colab-df-container\">\n",
              "    <div>\n",
              "<style scoped>\n",
              "    .dataframe tbody tr th:only-of-type {\n",
              "        vertical-align: middle;\n",
              "    }\n",
              "\n",
              "    .dataframe tbody tr th {\n",
              "        vertical-align: top;\n",
              "    }\n",
              "\n",
              "    .dataframe thead th {\n",
              "        text-align: right;\n",
              "    }\n",
              "</style>\n",
              "<table border=\"1\" class=\"dataframe\">\n",
              "  <thead>\n",
              "    <tr style=\"text-align: right;\">\n",
              "      <th></th>\n",
              "      <th>word</th>\n",
              "      <th>count</th>\n",
              "      <th>rank</th>\n",
              "      <th>pct_total</th>\n",
              "    </tr>\n",
              "  </thead>\n",
              "  <tbody>\n",
              "    <tr>\n",
              "      <th>0</th>\n",
              "      <td>alice</td>\n",
              "      <td>28</td>\n",
              "      <td>1.0</td>\n",
              "      <td>2.816901</td>\n",
              "    </tr>\n",
              "    <tr>\n",
              "      <th>1</th>\n",
              "      <td>beginning</td>\n",
              "      <td>1</td>\n",
              "      <td>176.0</td>\n",
              "      <td>0.100604</td>\n",
              "    </tr>\n",
              "    <tr>\n",
              "      <th>2</th>\n",
              "      <td>tired</td>\n",
              "      <td>1</td>\n",
              "      <td>177.0</td>\n",
              "      <td>0.100604</td>\n",
              "    </tr>\n",
              "    <tr>\n",
              "      <th>3</th>\n",
              "      <td>sitting</td>\n",
              "      <td>2</td>\n",
              "      <td>81.0</td>\n",
              "      <td>0.201207</td>\n",
              "    </tr>\n",
              "    <tr>\n",
              "      <th>4</th>\n",
              "      <td>sister</td>\n",
              "      <td>4</td>\n",
              "      <td>39.0</td>\n",
              "      <td>0.402414</td>\n",
              "    </tr>\n",
              "    <tr>\n",
              "      <th>5</th>\n",
              "      <td>bank</td>\n",
              "      <td>1</td>\n",
              "      <td>178.0</td>\n",
              "      <td>0.100604</td>\n",
              "    </tr>\n",
              "    <tr>\n",
              "      <th>6</th>\n",
              "      <td>having</td>\n",
              "      <td>2</td>\n",
              "      <td>82.0</td>\n",
              "      <td>0.201207</td>\n",
              "    </tr>\n",
              "    <tr>\n",
              "      <th>7</th>\n",
              "      <td>twice</td>\n",
              "      <td>1</td>\n",
              "      <td>179.0</td>\n",
              "      <td>0.100604</td>\n",
              "    </tr>\n",
              "    <tr>\n",
              "      <th>8</th>\n",
              "      <td>peeped</td>\n",
              "      <td>1</td>\n",
              "      <td>180.0</td>\n",
              "      <td>0.100604</td>\n",
              "    </tr>\n",
              "    <tr>\n",
              "      <th>9</th>\n",
              "      <td>book</td>\n",
              "      <td>2</td>\n",
              "      <td>83.0</td>\n",
              "      <td>0.201207</td>\n",
              "    </tr>\n",
              "  </tbody>\n",
              "</table>\n",
              "</div>\n",
              "    <div class=\"colab-df-buttons\">\n",
              "\n",
              "  <div class=\"colab-df-container\">\n",
              "    <button class=\"colab-df-convert\" onclick=\"convertToInteractive('df-22b0ccdd-28ce-4e93-912e-df25ee69cb4e')\"\n",
              "            title=\"Convert this dataframe to an interactive table.\"\n",
              "            style=\"display:none;\">\n",
              "\n",
              "  <svg xmlns=\"http://www.w3.org/2000/svg\" height=\"24px\" viewBox=\"0 -960 960 960\">\n",
              "    <path d=\"M120-120v-720h720v720H120Zm60-500h600v-160H180v160Zm220 220h160v-160H400v160Zm0 220h160v-160H400v160ZM180-400h160v-160H180v160Zm440 0h160v-160H620v160ZM180-180h160v-160H180v160Zm440 0h160v-160H620v160Z\"/>\n",
              "  </svg>\n",
              "    </button>\n",
              "\n",
              "  <style>\n",
              "    .colab-df-container {\n",
              "      display:flex;\n",
              "      gap: 12px;\n",
              "    }\n",
              "\n",
              "    .colab-df-convert {\n",
              "      background-color: #E8F0FE;\n",
              "      border: none;\n",
              "      border-radius: 50%;\n",
              "      cursor: pointer;\n",
              "      display: none;\n",
              "      fill: #1967D2;\n",
              "      height: 32px;\n",
              "      padding: 0 0 0 0;\n",
              "      width: 32px;\n",
              "    }\n",
              "\n",
              "    .colab-df-convert:hover {\n",
              "      background-color: #E2EBFA;\n",
              "      box-shadow: 0px 1px 2px rgba(60, 64, 67, 0.3), 0px 1px 3px 1px rgba(60, 64, 67, 0.15);\n",
              "      fill: #174EA6;\n",
              "    }\n",
              "\n",
              "    .colab-df-buttons div {\n",
              "      margin-bottom: 4px;\n",
              "    }\n",
              "\n",
              "    [theme=dark] .colab-df-convert {\n",
              "      background-color: #3B4455;\n",
              "      fill: #D2E3FC;\n",
              "    }\n",
              "\n",
              "    [theme=dark] .colab-df-convert:hover {\n",
              "      background-color: #434B5C;\n",
              "      box-shadow: 0px 1px 3px 1px rgba(0, 0, 0, 0.15);\n",
              "      filter: drop-shadow(0px 1px 2px rgba(0, 0, 0, 0.3));\n",
              "      fill: #FFFFFF;\n",
              "    }\n",
              "  </style>\n",
              "\n",
              "    <script>\n",
              "      const buttonEl =\n",
              "        document.querySelector('#df-22b0ccdd-28ce-4e93-912e-df25ee69cb4e button.colab-df-convert');\n",
              "      buttonEl.style.display =\n",
              "        google.colab.kernel.accessAllowed ? 'block' : 'none';\n",
              "\n",
              "      async function convertToInteractive(key) {\n",
              "        const element = document.querySelector('#df-22b0ccdd-28ce-4e93-912e-df25ee69cb4e');\n",
              "        const dataTable =\n",
              "          await google.colab.kernel.invokeFunction('convertToInteractive',\n",
              "                                                    [key], {});\n",
              "        if (!dataTable) return;\n",
              "\n",
              "        const docLinkHtml = 'Like what you see? Visit the ' +\n",
              "          '<a target=\"_blank\" href=https://colab.research.google.com/notebooks/data_table.ipynb>data table notebook</a>'\n",
              "          + ' to learn more about interactive tables.';\n",
              "        element.innerHTML = '';\n",
              "        dataTable['output_type'] = 'display_data';\n",
              "        await google.colab.output.renderOutput(dataTable, element);\n",
              "        const docLink = document.createElement('div');\n",
              "        docLink.innerHTML = docLinkHtml;\n",
              "        element.appendChild(docLink);\n",
              "      }\n",
              "    </script>\n",
              "  </div>\n",
              "\n",
              "\n",
              "    <div id=\"df-c11a2583-e019-4bfc-9de0-a9e5145d8e9d\">\n",
              "      <button class=\"colab-df-quickchart\" onclick=\"quickchart('df-c11a2583-e019-4bfc-9de0-a9e5145d8e9d')\"\n",
              "                title=\"Suggest charts\"\n",
              "                style=\"display:none;\">\n",
              "\n",
              "<svg xmlns=\"http://www.w3.org/2000/svg\" height=\"24px\"viewBox=\"0 0 24 24\"\n",
              "     width=\"24px\">\n",
              "    <g>\n",
              "        <path d=\"M19 3H5c-1.1 0-2 .9-2 2v14c0 1.1.9 2 2 2h14c1.1 0 2-.9 2-2V5c0-1.1-.9-2-2-2zM9 17H7v-7h2v7zm4 0h-2V7h2v10zm4 0h-2v-4h2v4z\"/>\n",
              "    </g>\n",
              "</svg>\n",
              "      </button>\n",
              "\n",
              "<style>\n",
              "  .colab-df-quickchart {\n",
              "      --bg-color: #E8F0FE;\n",
              "      --fill-color: #1967D2;\n",
              "      --hover-bg-color: #E2EBFA;\n",
              "      --hover-fill-color: #174EA6;\n",
              "      --disabled-fill-color: #AAA;\n",
              "      --disabled-bg-color: #DDD;\n",
              "  }\n",
              "\n",
              "  [theme=dark] .colab-df-quickchart {\n",
              "      --bg-color: #3B4455;\n",
              "      --fill-color: #D2E3FC;\n",
              "      --hover-bg-color: #434B5C;\n",
              "      --hover-fill-color: #FFFFFF;\n",
              "      --disabled-bg-color: #3B4455;\n",
              "      --disabled-fill-color: #666;\n",
              "  }\n",
              "\n",
              "  .colab-df-quickchart {\n",
              "    background-color: var(--bg-color);\n",
              "    border: none;\n",
              "    border-radius: 50%;\n",
              "    cursor: pointer;\n",
              "    display: none;\n",
              "    fill: var(--fill-color);\n",
              "    height: 32px;\n",
              "    padding: 0;\n",
              "    width: 32px;\n",
              "  }\n",
              "\n",
              "  .colab-df-quickchart:hover {\n",
              "    background-color: var(--hover-bg-color);\n",
              "    box-shadow: 0 1px 2px rgba(60, 64, 67, 0.3), 0 1px 3px 1px rgba(60, 64, 67, 0.15);\n",
              "    fill: var(--button-hover-fill-color);\n",
              "  }\n",
              "\n",
              "  .colab-df-quickchart-complete:disabled,\n",
              "  .colab-df-quickchart-complete:disabled:hover {\n",
              "    background-color: var(--disabled-bg-color);\n",
              "    fill: var(--disabled-fill-color);\n",
              "    box-shadow: none;\n",
              "  }\n",
              "\n",
              "  .colab-df-spinner {\n",
              "    border: 2px solid var(--fill-color);\n",
              "    border-color: transparent;\n",
              "    border-bottom-color: var(--fill-color);\n",
              "    animation:\n",
              "      spin 1s steps(1) infinite;\n",
              "  }\n",
              "\n",
              "  @keyframes spin {\n",
              "    0% {\n",
              "      border-color: transparent;\n",
              "      border-bottom-color: var(--fill-color);\n",
              "      border-left-color: var(--fill-color);\n",
              "    }\n",
              "    20% {\n",
              "      border-color: transparent;\n",
              "      border-left-color: var(--fill-color);\n",
              "      border-top-color: var(--fill-color);\n",
              "    }\n",
              "    30% {\n",
              "      border-color: transparent;\n",
              "      border-left-color: var(--fill-color);\n",
              "      border-top-color: var(--fill-color);\n",
              "      border-right-color: var(--fill-color);\n",
              "    }\n",
              "    40% {\n",
              "      border-color: transparent;\n",
              "      border-right-color: var(--fill-color);\n",
              "      border-top-color: var(--fill-color);\n",
              "    }\n",
              "    60% {\n",
              "      border-color: transparent;\n",
              "      border-right-color: var(--fill-color);\n",
              "    }\n",
              "    80% {\n",
              "      border-color: transparent;\n",
              "      border-right-color: var(--fill-color);\n",
              "      border-bottom-color: var(--fill-color);\n",
              "    }\n",
              "    90% {\n",
              "      border-color: transparent;\n",
              "      border-bottom-color: var(--fill-color);\n",
              "    }\n",
              "  }\n",
              "</style>\n",
              "\n",
              "      <script>\n",
              "        async function quickchart(key) {\n",
              "          const quickchartButtonEl =\n",
              "            document.querySelector('#' + key + ' button');\n",
              "          quickchartButtonEl.disabled = true;  // To prevent multiple clicks.\n",
              "          quickchartButtonEl.classList.add('colab-df-spinner');\n",
              "          try {\n",
              "            const charts = await google.colab.kernel.invokeFunction(\n",
              "                'suggestCharts', [key], {});\n",
              "          } catch (error) {\n",
              "            console.error('Error during call to suggestCharts:', error);\n",
              "          }\n",
              "          quickchartButtonEl.classList.remove('colab-df-spinner');\n",
              "          quickchartButtonEl.classList.add('colab-df-quickchart-complete');\n",
              "        }\n",
              "        (() => {\n",
              "          let quickchartButtonEl =\n",
              "            document.querySelector('#df-c11a2583-e019-4bfc-9de0-a9e5145d8e9d button');\n",
              "          quickchartButtonEl.style.display =\n",
              "            google.colab.kernel.accessAllowed ? 'block' : 'none';\n",
              "        })();\n",
              "      </script>\n",
              "    </div>\n",
              "\n",
              "    </div>\n",
              "  </div>\n"
            ],
            "application/vnd.google.colaboratory.intrinsic+json": {
              "type": "dataframe",
              "variable_name": "tokens_wc",
              "summary": "{\n  \"name\": \"tokens_wc\",\n  \"rows\": 539,\n  \"fields\": [\n    {\n      \"column\": \"word\",\n      \"properties\": {\n        \"dtype\": \"string\",\n        \"num_unique_values\": 539,\n        \"samples\": [\n          \"word\",\n          \"pattering\",\n          \"chance\"\n        ],\n        \"semantic_type\": \"\",\n        \"description\": \"\"\n      }\n    },\n    {\n      \"column\": \"count\",\n      \"properties\": {\n        \"dtype\": \"number\",\n        \"std\": 2,\n        \"min\": 1,\n        \"max\": 28,\n        \"num_unique_values\": 15,\n        \"samples\": [\n          7,\n          9,\n          28\n        ],\n        \"semantic_type\": \"\",\n        \"description\": \"\"\n      }\n    },\n    {\n      \"column\": \"rank\",\n      \"properties\": {\n        \"dtype\": \"number\",\n        \"std\": 155.74016822900893,\n        \"min\": 1.0,\n        \"max\": 539.0,\n        \"num_unique_values\": 539,\n        \"samples\": [\n          495.0,\n          211.0,\n          382.0\n        ],\n        \"semantic_type\": \"\",\n        \"description\": \"\"\n      }\n    },\n    {\n      \"column\": \"pct_total\",\n      \"properties\": {\n        \"dtype\": \"number\",\n        \"std\": 0.22034785716816532,\n        \"min\": 0.1006036217303823,\n        \"max\": 2.8169014084507045,\n        \"num_unique_values\": 15,\n        \"samples\": [\n          0.7042253521126761,\n          0.9054325955734407,\n          2.8169014084507045\n        ],\n        \"semantic_type\": \"\",\n        \"description\": \"\"\n      }\n    }\n  ]\n}"
            }
          },
          "metadata": {},
          "execution_count": 9
        }
      ]
    },
    {
      "cell_type": "code",
      "source": [
        "import matplotlib.pyplot as plt\n",
        "import seaborn as sns\n",
        "\n",
        "# create a new dataframe of the top 25 ranked words\n",
        "tokens_wc_top25 = tokens_wc[tokens_wc['rank'] <= 25]\n",
        "\n",
        "# Line plot of rank vs. percent total\n",
        "sns.lineplot(x='rank', y='pct_total', data=tokens_wc_top25)\n",
        "\n",
        "plt.show()"
      ],
      "metadata": {
        "colab": {
          "base_uri": "https://localhost:8080/",
          "height": 449
        },
        "id": "LemKd8dUoWdD",
        "outputId": "9f3676e6-93f7-44af-8fe3-289aeee9b83c"
      },
      "execution_count": 10,
      "outputs": [
        {
          "output_type": "display_data",
          "data": {
            "text/plain": [
              "<Figure size 640x480 with 1 Axes>"
            ],
            "image/png": "[encoded data removed]"
          },
          "metadata": {}
        }
      ]
    },
    {
      "cell_type": "code",
      "source": [
        "!pip install squarify"
      ],
      "metadata": {
        "colab": {
          "base_uri": "https://localhost:8080/"
        },
        "id": "qqXaChqtxzvN",
        "outputId": "8f14a217-151c-4e42-9a4c-f900680118af"
      },
      "execution_count": 11,
      "outputs": [
        {
          "output_type": "stream",
          "name": "stdout",
          "text": [
            "Collecting squarify\n",
            "  Downloading squarify-0.4.4-py3-none-any.whl.metadata (600 bytes)\n",
            "Downloading squarify-0.4.4-py3-none-any.whl (4.1 kB)\n",
            "Installing collected packages: squarify\n",
            "Successfully installed squarify-0.4.4\n"
          ]
        }
      ]
    },
    {
      "cell_type": "code",
      "source": [
        "import squarify\n",
        "\n",
        "squarify.plot(sizes=tokens_wc_top25['pct_total'], label=tokens_wc_top25['word'], alpha=0.8)\n",
        "plt.axis('off')\n",
        "plt.show()"
      ],
      "metadata": {
        "colab": {
          "base_uri": "https://localhost:8080/",
          "height": 406
        },
        "id": "7RGSNdAXx-cd",
        "outputId": "23e8f994-a20d-4a3f-83fb-048fa9870c3b"
      },
      "execution_count": 12,
      "outputs": [
        {
          "output_type": "display_data",
          "data": {
            "text/plain": [
              "<Figure size 640x480 with 1 Axes>"
            ],
            "image/png": "[encoded data removed]"
          },
          "metadata": {}
        }
      ]
    },
    {
      "cell_type": "code",
      "source": [
        "# add additional stop words to the default list\n",
        "STOP_WORDS = nlp.Defaults.stop_words.union(['alice', 'rabbit'])"
      ],
      "metadata": {
        "id": "mfwcs8YJyWsn"
      },
      "execution_count": 13,
      "outputs": []
    },
    {
      "cell_type": "code",
      "source": [
        "# Initialize a list to hold the tokens\n",
        "tokens_nostop_add = []\n",
        "\n",
        "# loop over each token in the document (doc)\n",
        "for token in doc:\n",
        "  if token.text.lower() not in STOP_WORDS and not token.is_punct:\n",
        "    tokens_nostop_add.append(token.text.lower())\n",
        "\n",
        "# sum up the word counts and store in a dict & dataframe\n",
        "tokens_dict_add = Counter(tokens_nostop_add)\n",
        "tokens_wc_add = pd.DataFrame(list(tokens_dict_add.items()), columns = ['word', 'count'])\n",
        "\n",
        "# rank the words & create a percentage column\n",
        "tokens_wc_add['rank'] = tokens_wc_add['count'].rank(method='first', ascending=False)\n",
        "total = tokens_wc_add['count'].sum()\n",
        "tokens_wc_add['pct_total'] = tokens_wc_add['count'].apply(lambda x: (x / total)*100)\n",
        "\n",
        "# create a new dataframe of the NEW top 25 ranked words\n",
        "tokens_wc_add_top25 = tokens_wc_add[tokens_wc_add['rank'] <= 25]"
      ],
      "metadata": {
        "id": "6ayzmNpEyi9q"
      },
      "execution_count": 14,
      "outputs": []
    },
    {
      "cell_type": "code",
      "source": [
        "tokens_wc_add_top25.head(10)"
      ],
      "metadata": {
        "colab": {
          "base_uri": "https://localhost:8080/",
          "height": 363
        },
        "id": "T4gvu45K0LGT",
        "outputId": "16f3a29d-d079-442a-a1c4-0a8920d87035"
      },
      "execution_count": 15,
      "outputs": [
        {
          "output_type": "execute_result",
          "data": {
            "text/plain": [
              "       word  count  rank  pct_total\n",
              "13  thought      8   9.0   0.841220\n",
              "31    white     10   4.0   1.051525\n",
              "33     eyes      6  20.0   0.630915\n",
              "34      ran      7  10.0   0.736067\n",
              "37    think      5  25.0   0.525762\n",
              "40       oh      6  21.0   0.630915\n",
              "47     time      9   7.0   0.946372\n",
              "65    large      6  22.0   0.630915\n",
              "68       \\n     10   5.0   1.051525\n",
              "70   little     18   1.0   1.892744"
            ],
            "text/html": [
              "\n",
              "  <div id=\"df-bf4039b7-1181-4e04-8f3f-46db65084909\" class=\"colab-df-container\">\n",
              "    <div>\n",
              "<style scoped>\n",
              "    .dataframe tbody tr th:only-of-type {\n",
              "        vertical-align: middle;\n",
              "    }\n",
              "\n",
              "    .dataframe tbody tr th {\n",
              "        vertical-align: top;\n",
              "    }\n",
              "\n",
              "    .dataframe thead th {\n",
              "        text-align: right;\n",
              "    }\n",
              "</style>\n",
              "<table border=\"1\" class=\"dataframe\">\n",
              "  <thead>\n",
              "    <tr style=\"text-align: right;\">\n",
              "      <th></th>\n",
              "      <th>word</th>\n",
              "      <th>count</th>\n",
              "      <th>rank</th>\n",
              "      <th>pct_total</th>\n",
              "    </tr>\n",
              "  </thead>\n",
              "  <tbody>\n",
              "    <tr>\n",
              "      <th>13</th>\n",
              "      <td>thought</td>\n",
              "      <td>8</td>\n",
              "      <td>9.0</td>\n",
              "      <td>0.841220</td>\n",
              "    </tr>\n",
              "    <tr>\n",
              "      <th>31</th>\n",
              "      <td>white</td>\n",
              "      <td>10</td>\n",
              "      <td>4.0</td>\n",
              "      <td>1.051525</td>\n",
              "    </tr>\n",
              "    <tr>\n",
              "      <th>33</th>\n",
              "      <td>eyes</td>\n",
              "      <td>6</td>\n",
              "      <td>20.0</td>\n",
              "      <td>0.630915</td>\n",
              "    </tr>\n",
              "    <tr>\n",
              "      <th>34</th>\n",
              "      <td>ran</td>\n",
              "      <td>7</td>\n",
              "      <td>10.0</td>\n",
              "      <td>0.736067</td>\n",
              "    </tr>\n",
              "    <tr>\n",
              "      <th>37</th>\n",
              "      <td>think</td>\n",
              "      <td>5</td>\n",
              "      <td>25.0</td>\n",
              "      <td>0.525762</td>\n",
              "    </tr>\n",
              "    <tr>\n",
              "      <th>40</th>\n",
              "      <td>oh</td>\n",
              "      <td>6</td>\n",
              "      <td>21.0</td>\n",
              "      <td>0.630915</td>\n",
              "    </tr>\n",
              "    <tr>\n",
              "      <th>47</th>\n",
              "      <td>time</td>\n",
              "      <td>9</td>\n",
              "      <td>7.0</td>\n",
              "      <td>0.946372</td>\n",
              "    </tr>\n",
              "    <tr>\n",
              "      <th>65</th>\n",
              "      <td>large</td>\n",
              "      <td>6</td>\n",
              "      <td>22.0</td>\n",
              "      <td>0.630915</td>\n",
              "    </tr>\n",
              "    <tr>\n",
              "      <th>68</th>\n",
              "      <td>\\n</td>\n",
              "      <td>10</td>\n",
              "      <td>5.0</td>\n",
              "      <td>1.051525</td>\n",
              "    </tr>\n",
              "    <tr>\n",
              "      <th>70</th>\n",
              "      <td>little</td>\n",
              "      <td>18</td>\n",
              "      <td>1.0</td>\n",
              "      <td>1.892744</td>\n",
              "    </tr>\n",
              "  </tbody>\n",
              "</table>\n",
              "</div>\n",
              "    <div class=\"colab-df-buttons\">\n",
              "\n",
              "  <div class=\"colab-df-container\">\n",
              "    <button class=\"colab-df-convert\" onclick=\"convertToInteractive('df-bf4039b7-1181-4e04-8f3f-46db65084909')\"\n",
              "            title=\"Convert this dataframe to an interactive table.\"\n",
              "            style=\"display:none;\">\n",
              "\n",
              "  <svg xmlns=\"http://www.w3.org/2000/svg\" height=\"24px\" viewBox=\"0 -960 960 960\">\n",
              "    <path d=\"M120-120v-720h720v720H120Zm60-500h600v-160H180v160Zm220 220h160v-160H400v160Zm0 220h160v-160H400v160ZM180-400h160v-160H180v160Zm440 0h160v-160H620v160ZM180-180h160v-160H180v160Zm440 0h160v-160H620v160Z\"/>\n",
              "  </svg>\n",
              "    </button>\n",
              "\n",
              "  <style>\n",
              "    .colab-df-container {\n",
              "      display:flex;\n",
              "      gap: 12px;\n",
              "    }\n",
              "\n",
              "    .colab-df-convert {\n",
              "      background-color: #E8F0FE;\n",
              "      border: none;\n",
              "      border-radius: 50%;\n",
              "      cursor: pointer;\n",
              "      display: none;\n",
              "      fill: #1967D2;\n",
              "      height: 32px;\n",
              "      padding: 0 0 0 0;\n",
              "      width: 32px;\n",
              "    }\n",
              "\n",
              "    .colab-df-convert:hover {\n",
              "      background-color: #E2EBFA;\n",
              "      box-shadow: 0px 1px 2px rgba(60, 64, 67, 0.3), 0px 1px 3px 1px rgba(60, 64, 67, 0.15);\n",
              "      fill: #174EA6;\n",
              "    }\n",
              "\n",
              "    .colab-df-buttons div {\n",
              "      margin-bottom: 4px;\n",
              "    }\n",
              "\n",
              "    [theme=dark] .colab-df-convert {\n",
              "      background-color: #3B4455;\n",
              "      fill: #D2E3FC;\n",
              "    }\n",
              "\n",
              "    [theme=dark] .colab-df-convert:hover {\n",
              "      background-color: #434B5C;\n",
              "      box-shadow: 0px 1px 3px 1px rgba(0, 0, 0, 0.15);\n",
              "      filter: drop-shadow(0px 1px 2px rgba(0, 0, 0, 0.3));\n",
              "      fill: #FFFFFF;\n",
              "    }\n",
              "  </style>\n",
              "\n",
              "    <script>\n",
              "      const buttonEl =\n",
              "        document.querySelector('#df-bf4039b7-1181-4e04-8f3f-46db65084909 button.colab-df-convert');\n",
              "      buttonEl.style.display =\n",
              "        google.colab.kernel.accessAllowed ? 'block' : 'none';\n",
              "\n",
              "      async function convertToInteractive(key) {\n",
              "        const element = document.querySelector('#df-bf4039b7-1181-4e04-8f3f-46db65084909');\n",
              "        const dataTable =\n",
              "          await google.colab.kernel.invokeFunction('convertToInteractive',\n",
              "                                                    [key], {});\n",
              "        if (!dataTable) return;\n",
              "\n",
              "        const docLinkHtml = 'Like what you see? Visit the ' +\n",
              "          '<a target=\"_blank\" href=https://colab.research.google.com/notebooks/data_table.ipynb>data table notebook</a>'\n",
              "          + ' to learn more about interactive tables.';\n",
              "        element.innerHTML = '';\n",
              "        dataTable['output_type'] = 'display_data';\n",
              "        await google.colab.output.renderOutput(dataTable, element);\n",
              "        const docLink = document.createElement('div');\n",
              "        docLink.innerHTML = docLinkHtml;\n",
              "        element.appendChild(docLink);\n",
              "      }\n",
              "    </script>\n",
              "  </div>\n",
              "\n",
              "\n",
              "    <div id=\"df-a81e4a4d-7f5d-41e0-bbb9-3f8d11219858\">\n",
              "      <button class=\"colab-df-quickchart\" onclick=\"quickchart('df-a81e4a4d-7f5d-41e0-bbb9-3f8d11219858')\"\n",
              "                title=\"Suggest charts\"\n",
              "                style=\"display:none;\">\n",
              "\n",
              "<svg xmlns=\"http://www.w3.org/2000/svg\" height=\"24px\"viewBox=\"0 0 24 24\"\n",
              "     width=\"24px\">\n",
              "    <g>\n",
              "        <path d=\"M19 3H5c-1.1 0-2 .9-2 2v14c0 1.1.9 2 2 2h14c1.1 0 2-.9 2-2V5c0-1.1-.9-2-2-2zM9 17H7v-7h2v7zm4 0h-2V7h2v10zm4 0h-2v-4h2v4z\"/>\n",
              "    </g>\n",
              "</svg>\n",
              "      </button>\n",
              "\n",
              "<style>\n",
              "  .colab-df-quickchart {\n",
              "      --bg-color: #E8F0FE;\n",
              "      --fill-color: #1967D2;\n",
              "      --hover-bg-color: #E2EBFA;\n",
              "      --hover-fill-color: #174EA6;\n",
              "      --disabled-fill-color: #AAA;\n",
              "      --disabled-bg-color: #DDD;\n",
              "  }\n",
              "\n",
              "  [theme=dark] .colab-df-quickchart {\n",
              "      --bg-color: #3B4455;\n",
              "      --fill-color: #D2E3FC;\n",
              "      --hover-bg-color: #434B5C;\n",
              "      --hover-fill-color: #FFFFFF;\n",
              "      --disabled-bg-color: #3B4455;\n",
              "      --disabled-fill-color: #666;\n",
              "  }\n",
              "\n",
              "  .colab-df-quickchart {\n",
              "    background-color: var(--bg-color);\n",
              "    border: none;\n",
              "    border-radius: 50%;\n",
              "    cursor: pointer;\n",
              "    display: none;\n",
              "    fill: var(--fill-color);\n",
              "    height: 32px;\n",
              "    padding: 0;\n",
              "    width: 32px;\n",
              "  }\n",
              "\n",
              "  .colab-df-quickchart:hover {\n",
              "    background-color: var(--hover-bg-color);\n",
              "    box-shadow: 0 1px 2px rgba(60, 64, 67, 0.3), 0 1px 3px 1px rgba(60, 64, 67, 0.15);\n",
              "    fill: var(--button-hover-fill-color);\n",
              "  }\n",
              "\n",
              "  .colab-df-quickchart-complete:disabled,\n",
              "  .colab-df-quickchart-complete:disabled:hover {\n",
              "    background-color: var(--disabled-bg-color);\n",
              "    fill: var(--disabled-fill-color);\n",
              "    box-shadow: none;\n",
              "  }\n",
              "\n",
              "  .colab-df-spinner {\n",
              "    border: 2px solid var(--fill-color);\n",
              "    border-color: transparent;\n",
              "    border-bottom-color: var(--fill-color);\n",
              "    animation:\n",
              "      spin 1s steps(1) infinite;\n",
              "  }\n",
              "\n",
              "  @keyframes spin {\n",
              "    0% {\n",
              "      border-color: transparent;\n",
              "      border-bottom-color: var(--fill-color);\n",
              "      border-left-color: var(--fill-color);\n",
              "    }\n",
              "    20% {\n",
              "      border-color: transparent;\n",
              "      border-left-color: var(--fill-color);\n",
              "      border-top-color: var(--fill-color);\n",
              "    }\n",
              "    30% {\n",
              "      border-color: transparent;\n",
              "      border-left-color: var(--fill-color);\n",
              "      border-top-color: var(--fill-color);\n",
              "      border-right-color: var(--fill-color);\n",
              "    }\n",
              "    40% {\n",
              "      border-color: transparent;\n",
              "      border-right-color: var(--fill-color);\n",
              "      border-top-color: var(--fill-color);\n",
              "    }\n",
              "    60% {\n",
              "      border-color: transparent;\n",
              "      border-right-color: var(--fill-color);\n",
              "    }\n",
              "    80% {\n",
              "      border-color: transparent;\n",
              "      border-right-color: var(--fill-color);\n",
              "      border-bottom-color: var(--fill-color);\n",
              "    }\n",
              "    90% {\n",
              "      border-color: transparent;\n",
              "      border-bottom-color: var(--fill-color);\n",
              "    }\n",
              "  }\n",
              "</style>\n",
              "\n",
              "      <script>\n",
              "        async function quickchart(key) {\n",
              "          const quickchartButtonEl =\n",
              "            document.querySelector('#' + key + ' button');\n",
              "          quickchartButtonEl.disabled = true;  // To prevent multiple clicks.\n",
              "          quickchartButtonEl.classList.add('colab-df-spinner');\n",
              "          try {\n",
              "            const charts = await google.colab.kernel.invokeFunction(\n",
              "                'suggestCharts', [key], {});\n",
              "          } catch (error) {\n",
              "            console.error('Error during call to suggestCharts:', error);\n",
              "          }\n",
              "          quickchartButtonEl.classList.remove('colab-df-spinner');\n",
              "          quickchartButtonEl.classList.add('colab-df-quickchart-complete');\n",
              "        }\n",
              "        (() => {\n",
              "          let quickchartButtonEl =\n",
              "            document.querySelector('#df-a81e4a4d-7f5d-41e0-bbb9-3f8d11219858 button');\n",
              "          quickchartButtonEl.style.display =\n",
              "            google.colab.kernel.accessAllowed ? 'block' : 'none';\n",
              "        })();\n",
              "      </script>\n",
              "    </div>\n",
              "\n",
              "    </div>\n",
              "  </div>\n"
            ],
            "application/vnd.google.colaboratory.intrinsic+json": {
              "type": "dataframe",
              "variable_name": "tokens_wc_add_top25",
              "summary": "{\n  \"name\": \"tokens_wc_add_top25\",\n  \"rows\": 25,\n  \"fields\": [\n    {\n      \"column\": \"word\",\n      \"properties\": {\n        \"dtype\": \"string\",\n        \"num_unique_values\": 25,\n        \"samples\": [\n          \"\\n\",\n          \"began\",\n          \"thought\"\n        ],\n        \"semantic_type\": \"\",\n        \"description\": \"\"\n      }\n    },\n    {\n      \"column\": \"count\",\n      \"properties\": {\n        \"dtype\": \"number\",\n        \"std\": 3,\n        \"min\": 5,\n        \"max\": 18,\n        \"num_unique_values\": 9,\n        \"samples\": [\n          12,\n          10,\n          9\n        ],\n        \"semantic_type\": \"\",\n        \"description\": \"\"\n      }\n    },\n    {\n      \"column\": \"rank\",\n      \"properties\": {\n        \"dtype\": \"number\",\n        \"std\": 7.359800721939872,\n        \"min\": 1.0,\n        \"max\": 25.0,\n        \"num_unique_values\": 25,\n        \"samples\": [\n          5.0,\n          15.0,\n          9.0\n        ],\n        \"semantic_type\": \"\",\n        \"description\": \"\"\n      }\n    },\n    {\n      \"column\": \"pct_total\",\n      \"properties\": {\n        \"dtype\": \"number\",\n        \"std\": 0.3262552058386287,\n        \"min\": 0.5257623554153523,\n        \"max\": 1.8927444794952681,\n        \"num_unique_values\": 9,\n        \"samples\": [\n          1.2618296529968454,\n          1.0515247108307046,\n          0.9463722397476341\n        ],\n        \"semantic_type\": \"\",\n        \"description\": \"\"\n      }\n    }\n  ]\n}"
            }
          },
          "metadata": {},
          "execution_count": 15
        }
      ]
    },
    {
      "cell_type": "code",
      "source": [
        "squarify.plot(sizes=tokens_wc_add_top25['pct_total'], label=tokens_wc_add_top25['word'], alpha=0.8)\n",
        "plt.axis('off')\n",
        "plt.show()"
      ],
      "metadata": {
        "colab": {
          "base_uri": "https://localhost:8080/",
          "height": 406
        },
        "id": "1344n6AC0Y_R",
        "outputId": "0a839aaf-5e8d-4fc2-83ba-e3b97b5a1868"
      },
      "execution_count": 17,
      "outputs": [
        {
          "output_type": "display_data",
          "data": {
            "text/plain": [
              "<Figure size 640x480 with 1 Axes>"
            ],
            "image/png": "[encoded data removed]"
          },
          "metadata": {}
        }
      ]
    },
    {
      "cell_type": "code",
      "source": [
        "# create a new dataframe of the bottom 25 words\n",
        "tokens_wc_end25 = tokens_wc.tail(25)\n",
        "\n",
        "squarify.plot(sizes=tokens_wc_end25['pct_total'], label=tokens_wc_end25['word'], alpha=0.8)\n",
        "plt.axis('off')\n",
        "plt.show()"
      ],
      "metadata": {
        "colab": {
          "base_uri": "https://localhost:8080/",
          "height": 406
        },
        "id": "-C04SXgP0puw",
        "outputId": "5117c076-7eb3-4314-b316-5c2dac303e4f"
      },
      "execution_count": 18,
      "outputs": [
        {
          "output_type": "display_data",
          "data": {
            "text/plain": [
              "<Figure size 640x480 with 1 Axes>"
            ],
            "image/png": "[encoded data removed]"
          },
          "metadata": {}
        }
      ]
    },
    {
      "cell_type": "code",
      "source": [
        "# import the library\n",
        "import spacy\n",
        "\n",
        "# create an example sentence\n",
        "sent = \"The rabbit-hole went straight on like a tunnel for some way, and then dipped suddenly down, so suddenly that Alice had not a moment to think about stopping herself before she found herself falling down a very deep well.\"\n",
        "\n",
        "# load the language library\n",
        "nlp = spacy.load(\"en_core_web_lg\")\n",
        "doc = nlp(sent)\n",
        "\n",
        "# lemma attributes\n",
        "for token in doc:\n",
        "  print(token.text, \" --> \", token.lemma_)"
      ],
      "metadata": {
        "colab": {
          "base_uri": "https://localhost:8080/"
        },
        "id": "mlbvbZ7sDMfz",
        "outputId": "93e4f745-aaa6-4e83-bafd-36c46e4362ed"
      },
      "execution_count": 19,
      "outputs": [
        {
          "output_type": "stream",
          "name": "stdout",
          "text": [
            "The  -->  the\n",
            "rabbit  -->  rabbit\n",
            "-  -->  -\n",
            "hole  -->  hole\n",
            "went  -->  go\n",
            "straight  -->  straight\n",
            "on  -->  on\n",
            "like  -->  like\n",
            "a  -->  a\n",
            "tunnel  -->  tunnel\n",
            "for  -->  for\n",
            "some  -->  some\n",
            "way  -->  way\n",
            ",  -->  ,\n",
            "and  -->  and\n",
            "then  -->  then\n",
            "dipped  -->  dip\n",
            "suddenly  -->  suddenly\n",
            "down  -->  down\n",
            ",  -->  ,\n",
            "so  -->  so\n",
            "suddenly  -->  suddenly\n",
            "that  -->  that\n",
            "Alice  -->  Alice\n",
            "had  -->  have\n",
            "not  -->  not\n",
            "a  -->  a\n",
            "moment  -->  moment\n",
            "to  -->  to\n",
            "think  -->  think\n",
            "about  -->  about\n",
            "stopping  -->  stop\n",
            "herself  -->  herself\n",
            "before  -->  before\n",
            "she  -->  she\n",
            "found  -->  find\n",
            "herself  -->  herself\n",
            "falling  -->  fall\n",
            "down  -->  down\n",
            "a  -->  a\n",
            "very  -->  very\n",
            "deep  -->  deep\n",
            "well  -->  well\n",
            ".  -->  .\n"
          ]
        }
      ]
    },
    {
      "cell_type": "code",
      "source": [
        "# Tokenizing and lemmatizing in one function\n",
        "\n",
        "def get_lemmas(text):\n",
        "    # Initialize a list\n",
        "    lemmas = []\n",
        "\n",
        "    # Convert the input text into a spaCy doc\n",
        "    doc = nlp(text)\n",
        "\n",
        "    # Remove stop words, punctuation, and personal pronouns (PRON)\n",
        "    for token in doc:\n",
        "        if not token.is_stop and not token.is_punct and token.pos_ != 'PRON':\n",
        "            lemmas.append(token.lemma_)\n",
        "\n",
        "    # Return the lemmatized tokens\n",
        "    return lemmas"
      ],
      "metadata": {
        "id": "mc31f6q1D_3z"
      },
      "execution_count": 20,
      "outputs": []
    },
    {
      "cell_type": "code",
      "source": [
        "# Example text (https://en.wikipedia.org/wiki/Geology)\n",
        "geology = [\n",
        "    \"Geology describes the structure of the Earth on and beneath its surface, and the processes that have shaped that structure.\",\n",
        "    \"It also provides tools to determine the relative and absolute ages of rocks found in a given location, and also to describe the histories of those rocks.\",\n",
        "    \"By combining these tools, geologists are able to chronicle the geological history of the Earth as a whole, and also to demonstrate the age of the Earth.\",\n",
        "    \"Geology provides the primary evidence for plate tectonics, the evolutionary history of life, and the Earth's past climates.\"\n",
        "]\n",
        "\n",
        "# Find the lemmas for each sentence in the above text\n",
        "geology_lemma = [get_lemmas(sentence) for sentence in geology]\n",
        "print(geology_lemma)"
      ],
      "metadata": {
        "colab": {
          "base_uri": "https://localhost:8080/"
        },
        "id": "fnSk7pjKEUaK",
        "outputId": "d4874a1f-c0b5-4f40-b94e-cd6c973f03d2"
      },
      "execution_count": 21,
      "outputs": [
        {
          "output_type": "stream",
          "name": "stdout",
          "text": [
            "[['geology', 'describe', 'structure', 'Earth', 'beneath', 'surface', 'process', 'shape', 'structure'], ['provide', 'tool', 'determine', 'relative', 'absolute', 'age', 'rock', 'find', 'give', 'location', 'describe', 'history', 'rock'], ['combine', 'tool', 'geologist', 'able', 'chronicle', 'geological', 'history', 'Earth', 'demonstrate', 'age', 'Earth'], ['geology', 'provide', 'primary', 'evidence', 'plate', 'tectonic', 'evolutionary', 'history', 'life', 'Earth', 'past', 'climate']]\n"
          ]
        }
      ]
    }
  ]
}